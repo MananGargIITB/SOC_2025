{
 "cells": [
  {
   "cell_type": "markdown",
   "id": "19ba3a0d-7fbc-4271-b80b-637d1cda484f",
   "metadata": {},
   "source": [
    "# Deutsch Algorithm"
   ]
  },
  {
   "cell_type": "code",
   "execution_count": 1,
   "id": "27b96e73-ba03-4046-af6c-6b30ff41aa3e",
   "metadata": {},
   "outputs": [],
   "source": [
    "from qiskit import QuantumCircuit\n",
    "from qiskit_aer import AerSimulator"
   ]
  },
  {
   "cell_type": "markdown",
   "id": "6d90a46c-2a42-44c7-ab7d-6f796e1f1f32",
   "metadata": {},
   "source": [
    "Let us first generate the gate for function f. Since the function takes 1-bits input and outputs 1-bits, only 4 such functions are possible - constant functions 0 and 1, the identity function and the NOT function."
   ]
  },
  {
   "cell_type": "code",
   "execution_count": 9,
   "id": "451b065f-866b-4b7b-8a77-ad0a64507b53",
   "metadata": {},
   "outputs": [],
   "source": [
    "def deutsch_function(case: int):\n",
    "    # This function generates a quantum circuit for one of the 4 functions\n",
    "    # from one bit to one bit\n",
    "\n",
    "    if case not in [1, 2, 3, 4]:\n",
    "        raise ValueError(\"`case` must be 1, 2, 3, or 4.\")\n",
    "\n",
    "    f = QuantumCircuit(2)\n",
    "    if case in [2, 3]:\n",
    "        f.cx(0, 1)\n",
    "    if case in [3, 4]:\n",
    "        f.x(1)\n",
    "    return f"
   ]
  },
  {
   "cell_type": "code",
   "execution_count": 10,
   "id": "adf65c28-cca6-42d8-bfb5-d335ecab35ec",
   "metadata": {},
   "outputs": [
    {
     "data": {
      "image/png": "[encoded data removed]",
      "text/plain": [
       "<Figure size 287.294x200.667 with 1 Axes>"
      ]
     },
     "metadata": {},
     "output_type": "display_data"
    }
   ],
   "source": [
    "display(deutsch_function(3).draw(output=\"mpl\"))"
   ]
  },
  {
   "cell_type": "markdown",
   "id": "ad01ce4b-36b7-4be8-b96d-d79974cc16d1",
   "metadata": {},
   "source": [
    "Now, we will create the circuit that implements the Deutsch algorithm."
   ]
  },
  {
   "cell_type": "code",
   "execution_count": 19,
   "id": "79b67e2b-2b04-4935-b911-c00ad59a8cdd",
   "metadata": {},
   "outputs": [],
   "source": [
    "def compile_circuit(function: QuantumCircuit):\n",
    "    # Compiles a circuit for use in Deutsch's algorithm.\n",
    "\n",
    "    n = function.num_qubits - 1\n",
    "    qc = QuantumCircuit(n + 1, n)\n",
    "\n",
    "    qc.x(n)\n",
    "    qc.h(range(n + 1))\n",
    "\n",
    "    qc.barrier()\n",
    "    qc.compose(function, inplace=True)\n",
    "    qc.barrier()\n",
    "\n",
    "    qc.h(range(n))\n",
    "    qc.measure(range(n), range(n))\n",
    "\n",
    "    return qc"
   ]
  },
  {
   "cell_type": "code",
   "execution_count": 20,
   "id": "1fc94fb6-51b1-4a73-83a3-8787da60a978",
   "metadata": {},
   "outputs": [
    {
     "data": {
      "image/png": "[encoded data removed]",
      "text/plain": [
       "<Figure size 788.961x284.278 with 1 Axes>"
      ]
     },
     "metadata": {},
     "output_type": "display_data"
    }
   ],
   "source": [
    "display(compile_circuit(deutsch_function(3)).draw(output=\"mpl\"))"
   ]
  },
  {
   "cell_type": "markdown",
   "id": "b0f22aee-d3f3-49ce-b1db-81c5d494858d",
   "metadata": {},
   "source": [
    "Now, let us create a function which implements the Deutsch algorithm on a given function f, and outputs whether f is constant or balanced. We proceed to check our algorithm for all four possible f."
   ]
  },
  {
   "cell_type": "code",
   "execution_count": 11,
   "id": "59283c2b-56f8-48f3-b894-916191152ada",
   "metadata": {},
   "outputs": [],
   "source": [
    "def deutsch_algorithm(function: QuantumCircuit):\n",
    "    # Determine if a one-bit function is constant or balanced.\n",
    "\n",
    "    qc = compile_circuit(function)\n",
    "\n",
    "    result = AerSimulator().run(qc, shots=1, memory=True).result()\n",
    "    measurements = result.get_memory()\n",
    "    if measurements[0] == \"0\":\n",
    "        return \"constant\"\n",
    "    return \"balanced\""
   ]
  },
  {
   "cell_type": "code",
   "execution_count": 18,
   "id": "31744021-c571-490b-bc74-8123d4fefc37",
   "metadata": {},
   "outputs": [
    {
     "name": "stdout",
     "output_type": "stream",
     "text": [
      "The function 1 is: constant\n",
      "The function 2 is: balanced\n",
      "The function 3 is: balanced\n",
      "The function 4 is: constant\n"
     ]
    }
   ],
   "source": [
    "for i in range(1,5):\n",
    "    f = deutsch_function(i)\n",
    "    print(f\"The function {i} is: {deutsch_algorithm(f)}\")"
   ]
  },
  {
   "cell_type": "markdown",
   "id": "ea2337d5-a02b-4837-82f0-62ecbb9654a8",
   "metadata": {},
   "source": [
    "We can see that the algorithm is working properly!"
   ]
  }
 ],
 "metadata": {
  "kernelspec": {
   "display_name": "Python 3 (ipykernel)",
   "language": "python",
   "name": "python3"
  },
  "language_info": {
   "codemirror_mode": {
    "name": "ipython",
    "version": 3
   },
   "file_extension": ".py",
   "mimetype": "text/x-python",
   "name": "python",
   "nbconvert_exporter": "python",
   "pygments_lexer": "ipython3",
   "version": "3.12.7"
  }
 },
 "nbformat": 4,
 "nbformat_minor": 5
}
